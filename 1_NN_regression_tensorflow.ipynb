{
  "nbformat": 4,
  "nbformat_minor": 0,
  "metadata": {
    "colab": {
      "name": "1_NN_regression_tensorflow.ipynb",
      "provenance": [],
      "authorship_tag": "ABX9TyMmUsxa6tB/wJZR+ujxaA/y",
      "include_colab_link": true
    },
    "kernelspec": {
      "name": "python3",
      "display_name": "Python 3"
    },
    "language_info": {
      "name": "python"
    }
  },
  "cells": [
    {
      "cell_type": "markdown",
      "metadata": {
        "id": "view-in-github",
        "colab_type": "text"
      },
      "source": [
        "<a href=\"https://colab.research.google.com/github/KAMBLE/Tensorflow/blob/main/1_NN_regression_tensorflow.ipynb\" target=\"_parent\"><img src=\"https://colab.research.google.com/assets/colab-badge.svg\" alt=\"Open In Colab\"/></a>"
      ]
    },
    {
      "cell_type": "markdown",
      "metadata": {
        "id": "uvfAP8EGdeAC"
      },
      "source": [
        "## **Linear Regression using Tensorflow**"
      ]
    },
    {
      "cell_type": "markdown",
      "metadata": {
        "id": "egpBtC_eX8SL"
      },
      "source": [
        "# house price prediction "
      ]
    },
    {
      "cell_type": "code",
      "metadata": {
        "colab": {
          "base_uri": "https://localhost:8080/",
          "height": 35
        },
        "id": "CV2McR8SaMsG",
        "outputId": "30774ce8-b1d2-439f-b9a2-2b914d7bf038"
      },
      "source": [
        "import tensorflow as tf \n",
        "tf.__version__"
      ],
      "execution_count": null,
      "outputs": [
        {
          "output_type": "execute_result",
          "data": {
            "application/vnd.google.colaboratory.intrinsic+json": {
              "type": "string"
            },
            "text/plain": [
              "'2.4.1'"
            ]
          },
          "metadata": {
            "tags": []
          },
          "execution_count": 1
        }
      ]
    },
    {
      "cell_type": "markdown",
      "metadata": {
        "id": "TW4hbcjZaYja"
      },
      "source": [
        "## create data to view and fit"
      ]
    },
    {
      "cell_type": "code",
      "metadata": {
        "colab": {
          "base_uri": "https://localhost:8080/",
          "height": 286
        },
        "id": "Uh_ekfOcaqKV",
        "outputId": "48b584fc-7e63-441a-aa1f-c2e1487ebce5"
      },
      "source": [
        "import numpy as np\n",
        "import matplotlib.pyplot as plt\n",
        "\n",
        "X = np.array([-7.,-4.,-1.0,2.,5.,8.,11.,14.])\n",
        "y = np.array([3.,6.,9.,12.,15.,18.,21.,24.])\n",
        "\n",
        "plt.scatter(X,y)"
      ],
      "execution_count": null,
      "outputs": [
        {
          "output_type": "execute_result",
          "data": {
            "text/plain": [
              "<matplotlib.collections.PathCollection at 0x7fe0d342ad50>"
            ]
          },
          "metadata": {
            "tags": []
          },
          "execution_count": 1
        },
        {
          "output_type": "display_data",
          "data": {
            "image/png": "[encoded data removed]",
            "text/plain": [
              "<Figure size 432x288 with 1 Axes>"
            ]
          },
          "metadata": {
            "tags": [],
            "needs_background": "light"
          }
        }
      ]
    },
    {
      "cell_type": "markdown",
      "metadata": {
        "id": "UkCFYEwobEQ8"
      },
      "source": [
        "### model in tensorflow\n"
      ]
    },
    {
      "cell_type": "code",
      "metadata": {
        "id": "W9F7iPnahTJF",
        "colab": {
          "base_uri": "https://localhost:8080/"
        },
        "outputId": "bb9f3c15-84d9-45ff-e192-2c76e7d7a525"
      },
      "source": [
        "#set random seed \n",
        "tf.random.set_seed(76)\n",
        "\n",
        "# create model using sequential API\n",
        "\n",
        "model = tf.keras.Sequential([\n",
        "     tf.keras.layers.Dense(1)                        \n",
        "                            \n",
        "])\n",
        "\n",
        "#another approach \n",
        "#model = tf.keras.Sequential()\n",
        "#model.add(tf.kears.layers.Dense(1))\n",
        "\n",
        "#compile model\n",
        "model.compile(loss=tf.keras.losses.mae,\n",
        "              optimizer=tf.keras.optimizers.SGD(),\n",
        "              metrics=['mae'])\n",
        "\n",
        "model.fit(X,y,epochs=5)"
      ],
      "execution_count": null,
      "outputs": [
        {
          "output_type": "stream",
          "text": [
            "Epoch 1/5\n",
            "1/1 [==============================] - 1s 509ms/step - loss: 13.9141 - mae: 13.9141\n",
            "Epoch 2/5\n",
            "1/1 [==============================] - 0s 4ms/step - loss: 13.7816 - mae: 13.7816\n",
            "Epoch 3/5\n",
            "1/1 [==============================] - 0s 9ms/step - loss: 13.6491 - mae: 13.6491\n",
            "Epoch 4/5\n",
            "1/1 [==============================] - 0s 10ms/step - loss: 13.5166 - mae: 13.5166\n",
            "Epoch 5/5\n",
            "1/1 [==============================] - 0s 4ms/step - loss: 13.3841 - mae: 13.3841\n"
          ],
          "name": "stdout"
        },
        {
          "output_type": "execute_result",
          "data": {
            "text/plain": [
              "<tensorflow.python.keras.callbacks.History at 0x7fe089b43110>"
            ]
          },
          "metadata": {
            "tags": []
          },
          "execution_count": 7
        }
      ]
    },
    {
      "cell_type": "code",
      "metadata": {
        "colab": {
          "base_uri": "https://localhost:8080/"
        },
        "id": "Qwi-kT8mstA4",
        "outputId": "cbfb4598-d329-4e66-c42e-091714ad9ad8"
      },
      "source": [
        "X.dtype"
      ],
      "execution_count": null,
      "outputs": [
        {
          "output_type": "execute_result",
          "data": {
            "text/plain": [
              "dtype('float64')"
            ]
          },
          "metadata": {
            "tags": []
          },
          "execution_count": 10
        }
      ]
    },
    {
      "cell_type": "code",
      "metadata": {
        "colab": {
          "base_uri": "https://localhost:8080/"
        },
        "id": "2aP9CyXKs5WV",
        "outputId": "c8744e8d-0318-440b-8ec9-58f2b9633899"
      },
      "source": [
        "X,y"
      ],
      "execution_count": null,
      "outputs": [
        {
          "output_type": "execute_result",
          "data": {
            "text/plain": [
              "(array([-7., -4., -1.,  2.,  5.,  8., 11., 14.]),\n",
              " array([ 3.,  6.,  9., 12., 15., 18., 21., 24.]))"
            ]
          },
          "metadata": {
            "tags": []
          },
          "execution_count": 11
        }
      ]
    },
    {
      "cell_type": "code",
      "metadata": {
        "colab": {
          "base_uri": "https://localhost:8080/"
        },
        "id": "ZQxpJTWDtKvs",
        "outputId": "dc6b5875-8bec-4cd1-9764-fd606a7ccdd2"
      },
      "source": [
        "# try predicting value\n",
        "model.predict([17.0])"
      ],
      "execution_count": null,
      "outputs": [
        {
          "output_type": "execute_result",
          "data": {
            "text/plain": [
              "array([[1.0136492]], dtype=float32)"
            ]
          },
          "metadata": {
            "tags": []
          },
          "execution_count": 13
        }
      ]
    },
    {
      "cell_type": "markdown",
      "metadata": {
        "id": "bYR2_ASitQ_y"
      },
      "source": [
        "###improve model"
      ]
    },
    {
      "cell_type": "code",
      "metadata": {
        "colab": {
          "base_uri": "https://localhost:8080/"
        },
        "id": "GgCsiop4wE_r",
        "outputId": "4c19460b-3576-45d7-c35c-aaa32f384e54"
      },
      "source": [
        "model = tf.keras.Sequential([\n",
        "     tf.keras.layers.Dense(1)                        \n",
        "                            \n",
        "])\n",
        "\n",
        "#compile model\n",
        "model.compile(loss=tf.keras.losses.mae,\n",
        "              optimizer=tf.keras.optimizers.SGD(),\n",
        "              metrics=['mae'])\n",
        "\n",
        "model.fit(X,y,epochs=100)"
      ],
      "execution_count": null,
      "outputs": [
        {
          "output_type": "stream",
          "text": [
            "Epoch 1/100\n",
            "1/1 [==============================] - 0s 270ms/step - loss: 19.4608 - mae: 19.4608\n",
            "Epoch 2/100\n",
            "1/1 [==============================] - 0s 6ms/step - loss: 19.1796 - mae: 19.1796\n",
            "Epoch 3/100\n",
            "1/1 [==============================] - 0s 4ms/step - loss: 18.8983 - mae: 18.8983\n",
            "Epoch 4/100\n",
            "1/1 [==============================] - 0s 7ms/step - loss: 18.6171 - mae: 18.6171\n",
            "Epoch 5/100\n",
            "1/1 [==============================] - 0s 4ms/step - loss: 18.3358 - mae: 18.3358\n",
            "Epoch 6/100\n",
            "1/1 [==============================] - 0s 7ms/step - loss: 18.0546 - mae: 18.0546\n",
            "Epoch 7/100\n",
            "1/1 [==============================] - 0s 5ms/step - loss: 17.7733 - mae: 17.7733\n",
            "Epoch 8/100\n",
            "1/1 [==============================] - 0s 7ms/step - loss: 17.4921 - mae: 17.4921\n",
            "Epoch 9/100\n",
            "1/1 [==============================] - 0s 4ms/step - loss: 17.2108 - mae: 17.2108\n",
            "Epoch 10/100\n",
            "1/1 [==============================] - 0s 6ms/step - loss: 16.9296 - mae: 16.9296\n",
            "Epoch 11/100\n",
            "1/1 [==============================] - 0s 6ms/step - loss: 16.6483 - mae: 16.6483\n",
            "Epoch 12/100\n",
            "1/1 [==============================] - 0s 6ms/step - loss: 16.3671 - mae: 16.3671\n",
            "Epoch 13/100\n",
            "1/1 [==============================] - 0s 7ms/step - loss: 16.0858 - mae: 16.0858\n",
            "Epoch 14/100\n",
            "1/1 [==============================] - 0s 6ms/step - loss: 15.8046 - mae: 15.8046\n",
            "Epoch 15/100\n",
            "1/1 [==============================] - 0s 6ms/step - loss: 15.5233 - mae: 15.5233\n",
            "Epoch 16/100\n",
            "1/1 [==============================] - 0s 5ms/step - loss: 15.2421 - mae: 15.2421\n",
            "Epoch 17/100\n",
            "1/1 [==============================] - 0s 7ms/step - loss: 14.9608 - mae: 14.9608\n",
            "Epoch 18/100\n",
            "1/1 [==============================] - 0s 5ms/step - loss: 14.7226 - mae: 14.7226\n",
            "Epoch 19/100\n",
            "1/1 [==============================] - 0s 6ms/step - loss: 14.5901 - mae: 14.5901\n",
            "Epoch 20/100\n",
            "1/1 [==============================] - 0s 5ms/step - loss: 14.4576 - mae: 14.4576\n",
            "Epoch 21/100\n",
            "1/1 [==============================] - 0s 6ms/step - loss: 14.3251 - mae: 14.3251\n",
            "Epoch 22/100\n",
            "1/1 [==============================] - 0s 5ms/step - loss: 14.1926 - mae: 14.1926\n",
            "Epoch 23/100\n",
            "1/1 [==============================] - 0s 13ms/step - loss: 14.0601 - mae: 14.0601\n",
            "Epoch 24/100\n",
            "1/1 [==============================] - 0s 5ms/step - loss: 13.9276 - mae: 13.9276\n",
            "Epoch 25/100\n",
            "1/1 [==============================] - 0s 5ms/step - loss: 13.7951 - mae: 13.7951\n",
            "Epoch 26/100\n",
            "1/1 [==============================] - 0s 5ms/step - loss: 13.6626 - mae: 13.6626\n",
            "Epoch 27/100\n",
            "1/1 [==============================] - 0s 6ms/step - loss: 13.5301 - mae: 13.5301\n",
            "Epoch 28/100\n",
            "1/1 [==============================] - 0s 5ms/step - loss: 13.3976 - mae: 13.3976\n",
            "Epoch 29/100\n",
            "1/1 [==============================] - 0s 7ms/step - loss: 13.2651 - mae: 13.2651\n",
            "Epoch 30/100\n",
            "1/1 [==============================] - 0s 4ms/step - loss: 13.1326 - mae: 13.1326\n",
            "Epoch 31/100\n",
            "1/1 [==============================] - 0s 5ms/step - loss: 13.0001 - mae: 13.0001\n",
            "Epoch 32/100\n",
            "1/1 [==============================] - 0s 4ms/step - loss: 12.8676 - mae: 12.8676\n",
            "Epoch 33/100\n",
            "1/1 [==============================] - 0s 4ms/step - loss: 12.7351 - mae: 12.7351\n",
            "Epoch 34/100\n",
            "1/1 [==============================] - 0s 7ms/step - loss: 12.6026 - mae: 12.6026\n",
            "Epoch 35/100\n",
            "1/1 [==============================] - 0s 9ms/step - loss: 12.4701 - mae: 12.4701\n",
            "Epoch 36/100\n",
            "1/1 [==============================] - 0s 16ms/step - loss: 12.3376 - mae: 12.3376\n",
            "Epoch 37/100\n",
            "1/1 [==============================] - 0s 9ms/step - loss: 12.2051 - mae: 12.2051\n",
            "Epoch 38/100\n",
            "1/1 [==============================] - 0s 10ms/step - loss: 12.0726 - mae: 12.0726\n",
            "Epoch 39/100\n",
            "1/1 [==============================] - 0s 6ms/step - loss: 11.9401 - mae: 11.9401\n",
            "Epoch 40/100\n",
            "1/1 [==============================] - 0s 6ms/step - loss: 11.8076 - mae: 11.8076\n",
            "Epoch 41/100\n",
            "1/1 [==============================] - 0s 7ms/step - loss: 11.6751 - mae: 11.6751\n",
            "Epoch 42/100\n",
            "1/1 [==============================] - 0s 5ms/step - loss: 11.5426 - mae: 11.5426\n",
            "Epoch 43/100\n",
            "1/1 [==============================] - 0s 8ms/step - loss: 11.4101 - mae: 11.4101\n",
            "Epoch 44/100\n",
            "1/1 [==============================] - 0s 5ms/step - loss: 11.2776 - mae: 11.2776\n",
            "Epoch 45/100\n",
            "1/1 [==============================] - 0s 5ms/step - loss: 11.1451 - mae: 11.1451\n",
            "Epoch 46/100\n",
            "1/1 [==============================] - 0s 8ms/step - loss: 11.0126 - mae: 11.0126\n",
            "Epoch 47/100\n",
            "1/1 [==============================] - 0s 6ms/step - loss: 10.8801 - mae: 10.8801\n",
            "Epoch 48/100\n",
            "1/1 [==============================] - 0s 5ms/step - loss: 10.7476 - mae: 10.7476\n",
            "Epoch 49/100\n",
            "1/1 [==============================] - 0s 6ms/step - loss: 10.6151 - mae: 10.6151\n",
            "Epoch 50/100\n",
            "1/1 [==============================] - 0s 8ms/step - loss: 10.4826 - mae: 10.4826\n",
            "Epoch 51/100\n",
            "1/1 [==============================] - 0s 4ms/step - loss: 10.3501 - mae: 10.3501\n",
            "Epoch 52/100\n",
            "1/1 [==============================] - 0s 7ms/step - loss: 10.2176 - mae: 10.2176\n",
            "Epoch 53/100\n",
            "1/1 [==============================] - 0s 9ms/step - loss: 10.0851 - mae: 10.0851\n",
            "Epoch 54/100\n",
            "1/1 [==============================] - 0s 8ms/step - loss: 9.9526 - mae: 9.9526\n",
            "Epoch 55/100\n",
            "1/1 [==============================] - 0s 7ms/step - loss: 9.8201 - mae: 9.8201\n",
            "Epoch 56/100\n",
            "1/1 [==============================] - 0s 4ms/step - loss: 9.6876 - mae: 9.6876\n",
            "Epoch 57/100\n",
            "1/1 [==============================] - 0s 7ms/step - loss: 9.5551 - mae: 9.5551\n",
            "Epoch 58/100\n",
            "1/1 [==============================] - 0s 5ms/step - loss: 9.4226 - mae: 9.4226\n",
            "Epoch 59/100\n",
            "1/1 [==============================] - 0s 9ms/step - loss: 9.2901 - mae: 9.2901\n",
            "Epoch 60/100\n",
            "1/1 [==============================] - 0s 4ms/step - loss: 9.1576 - mae: 9.1576\n",
            "Epoch 61/100\n",
            "1/1 [==============================] - 0s 6ms/step - loss: 9.0251 - mae: 9.0251\n",
            "Epoch 62/100\n",
            "1/1 [==============================] - 0s 8ms/step - loss: 8.8926 - mae: 8.8926\n",
            "Epoch 63/100\n",
            "1/1 [==============================] - 0s 9ms/step - loss: 8.7601 - mae: 8.7601\n",
            "Epoch 64/100\n",
            "1/1 [==============================] - 0s 4ms/step - loss: 8.6276 - mae: 8.6276\n",
            "Epoch 65/100\n",
            "1/1 [==============================] - 0s 7ms/step - loss: 8.4951 - mae: 8.4951\n",
            "Epoch 66/100\n",
            "1/1 [==============================] - 0s 4ms/step - loss: 8.3626 - mae: 8.3626\n",
            "Epoch 67/100\n",
            "1/1 [==============================] - 0s 6ms/step - loss: 8.2301 - mae: 8.2301\n",
            "Epoch 68/100\n",
            "1/1 [==============================] - 0s 7ms/step - loss: 8.0976 - mae: 8.0976\n",
            "Epoch 69/100\n",
            "1/1 [==============================] - 0s 7ms/step - loss: 7.9651 - mae: 7.9651\n",
            "Epoch 70/100\n",
            "1/1 [==============================] - 0s 6ms/step - loss: 7.8326 - mae: 7.8326\n",
            "Epoch 71/100\n",
            "1/1 [==============================] - 0s 7ms/step - loss: 7.7001 - mae: 7.7001\n",
            "Epoch 72/100\n",
            "1/1 [==============================] - 0s 14ms/step - loss: 7.5676 - mae: 7.5676\n",
            "Epoch 73/100\n",
            "1/1 [==============================] - 0s 9ms/step - loss: 7.4351 - mae: 7.4351\n",
            "Epoch 74/100\n",
            "1/1 [==============================] - 0s 10ms/step - loss: 7.3026 - mae: 7.3026\n",
            "Epoch 75/100\n",
            "1/1 [==============================] - 0s 5ms/step - loss: 7.1701 - mae: 7.1701\n",
            "Epoch 76/100\n",
            "1/1 [==============================] - 0s 16ms/step - loss: 7.0376 - mae: 7.0376\n",
            "Epoch 77/100\n",
            "1/1 [==============================] - 0s 7ms/step - loss: 6.9619 - mae: 6.9619\n",
            "Epoch 78/100\n",
            "1/1 [==============================] - 0s 8ms/step - loss: 6.9563 - mae: 6.9563\n",
            "Epoch 79/100\n",
            "1/1 [==============================] - 0s 7ms/step - loss: 6.9506 - mae: 6.9506\n",
            "Epoch 80/100\n",
            "1/1 [==============================] - 0s 8ms/step - loss: 6.9450 - mae: 6.9450\n",
            "Epoch 81/100\n",
            "1/1 [==============================] - 0s 5ms/step - loss: 6.9394 - mae: 6.9394\n",
            "Epoch 82/100\n",
            "1/1 [==============================] - 0s 7ms/step - loss: 6.9338 - mae: 6.9338\n",
            "Epoch 83/100\n",
            "1/1 [==============================] - 0s 12ms/step - loss: 6.9281 - mae: 6.9281\n",
            "Epoch 84/100\n",
            "1/1 [==============================] - 0s 14ms/step - loss: 6.9225 - mae: 6.9225\n",
            "Epoch 85/100\n",
            "1/1 [==============================] - 0s 24ms/step - loss: 6.9169 - mae: 6.9169\n",
            "Epoch 86/100\n",
            "1/1 [==============================] - 0s 8ms/step - loss: 6.9113 - mae: 6.9113\n",
            "Epoch 87/100\n",
            "1/1 [==============================] - 0s 10ms/step - loss: 6.9056 - mae: 6.9056\n",
            "Epoch 88/100\n",
            "1/1 [==============================] - 0s 4ms/step - loss: 6.9000 - mae: 6.9000\n",
            "Epoch 89/100\n",
            "1/1 [==============================] - 0s 6ms/step - loss: 6.8944 - mae: 6.8944\n",
            "Epoch 90/100\n",
            "1/1 [==============================] - 0s 11ms/step - loss: 6.8888 - mae: 6.8888\n",
            "Epoch 91/100\n",
            "1/1 [==============================] - 0s 8ms/step - loss: 6.8831 - mae: 6.8831\n",
            "Epoch 92/100\n",
            "1/1 [==============================] - 0s 5ms/step - loss: 6.8775 - mae: 6.8775\n",
            "Epoch 93/100\n",
            "1/1 [==============================] - 0s 12ms/step - loss: 6.8719 - mae: 6.8719\n",
            "Epoch 94/100\n",
            "1/1 [==============================] - 0s 4ms/step - loss: 6.8663 - mae: 6.8663\n",
            "Epoch 95/100\n",
            "1/1 [==============================] - 0s 4ms/step - loss: 6.8606 - mae: 6.8606\n",
            "Epoch 96/100\n",
            "1/1 [==============================] - 0s 8ms/step - loss: 6.8550 - mae: 6.8550\n",
            "Epoch 97/100\n",
            "1/1 [==============================] - 0s 5ms/step - loss: 6.8494 - mae: 6.8494\n",
            "Epoch 98/100\n",
            "1/1 [==============================] - 0s 6ms/step - loss: 6.8438 - mae: 6.8438\n",
            "Epoch 99/100\n",
            "1/1 [==============================] - 0s 7ms/step - loss: 6.8381 - mae: 6.8381\n",
            "Epoch 100/100\n",
            "1/1 [==============================] - 0s 7ms/step - loss: 6.8325 - mae: 6.8325\n"
          ],
          "name": "stdout"
        },
        {
          "output_type": "execute_result",
          "data": {
            "text/plain": [
              "<tensorflow.python.keras.callbacks.History at 0x7fe08593eed0>"
            ]
          },
          "metadata": {
            "tags": []
          },
          "execution_count": 14
        }
      ]
    },
    {
      "cell_type": "code",
      "metadata": {
        "colab": {
          "base_uri": "https://localhost:8080/"
        },
        "id": "mp_chjpgwMQj",
        "outputId": "4971a1fa-5b31-43a7-fd55-db174aac3566"
      },
      "source": [
        "# try predicting value\n",
        "model.predict([17.0])"
      ],
      "execution_count": null,
      "outputs": [
        {
          "output_type": "execute_result",
          "data": {
            "text/plain": [
              "array([[29.444767]], dtype=float32)"
            ]
          },
          "metadata": {
            "tags": []
          },
          "execution_count": 15
        }
      ]
    },
    {
      "cell_type": "code",
      "metadata": {
        "colab": {
          "base_uri": "https://localhost:8080/"
        },
        "id": "5lU8YKmet5sz",
        "outputId": "08874798-f21d-4288-de28-1e61567493bb"
      },
      "source": [
        "model = tf.keras.Sequential([\n",
        "                             #tf.keras.layers.Dense(100,activation='relu'),\n",
        "                             #tf.keras.layers.Dense(100,activation='relu'),\n",
        "                             tf.keras.layers.Dense(100,activation='relu'),\n",
        "                             tf.keras.layers.Dense(1)\n",
        "])\n",
        "\n",
        "model.compile(loss=tf.keras.losses.mae,\n",
        "              optimizer=tf.keras.optimizers.Adam(lr=0.01),\n",
        "              metrics=['mae'])\n",
        "\n",
        "model.fit(X,y,epochs=100)"
      ],
      "execution_count": null,
      "outputs": [
        {
          "output_type": "stream",
          "text": [
            "Epoch 1/100\n",
            "1/1 [==============================] - 0s 352ms/step - loss: 13.0248 - mae: 13.0248\n",
            "Epoch 2/100\n",
            "1/1 [==============================] - 0s 9ms/step - loss: 12.1596 - mae: 12.1596\n",
            "Epoch 3/100\n",
            "1/1 [==============================] - 0s 5ms/step - loss: 11.3093 - mae: 11.3093\n",
            "Epoch 4/100\n",
            "1/1 [==============================] - 0s 4ms/step - loss: 10.4555 - mae: 10.4555\n",
            "Epoch 5/100\n",
            "1/1 [==============================] - 0s 6ms/step - loss: 9.6012 - mae: 9.6012\n",
            "Epoch 6/100\n",
            "1/1 [==============================] - 0s 9ms/step - loss: 8.9740 - mae: 8.9740\n",
            "Epoch 7/100\n",
            "1/1 [==============================] - 0s 8ms/step - loss: 8.3267 - mae: 8.3267\n",
            "Epoch 8/100\n",
            "1/1 [==============================] - 0s 5ms/step - loss: 7.6497 - mae: 7.6497\n",
            "Epoch 9/100\n",
            "1/1 [==============================] - 0s 9ms/step - loss: 6.9450 - mae: 6.9450\n",
            "Epoch 10/100\n",
            "1/1 [==============================] - 0s 8ms/step - loss: 6.2168 - mae: 6.2168\n",
            "Epoch 11/100\n",
            "1/1 [==============================] - 0s 5ms/step - loss: 5.4615 - mae: 5.4615\n",
            "Epoch 12/100\n",
            "1/1 [==============================] - 0s 12ms/step - loss: 4.6743 - mae: 4.6743\n",
            "Epoch 13/100\n",
            "1/1 [==============================] - 0s 9ms/step - loss: 3.9981 - mae: 3.9981\n",
            "Epoch 14/100\n",
            "1/1 [==============================] - 0s 5ms/step - loss: 3.7940 - mae: 3.7940\n",
            "Epoch 15/100\n",
            "1/1 [==============================] - 0s 5ms/step - loss: 3.9367 - mae: 3.9367\n",
            "Epoch 16/100\n",
            "1/1 [==============================] - 0s 7ms/step - loss: 4.0565 - mae: 4.0565\n",
            "Epoch 17/100\n",
            "1/1 [==============================] - 0s 5ms/step - loss: 4.3294 - mae: 4.3294\n",
            "Epoch 18/100\n",
            "1/1 [==============================] - 0s 4ms/step - loss: 4.5304 - mae: 4.5304\n",
            "Epoch 19/100\n",
            "1/1 [==============================] - 0s 7ms/step - loss: 4.6352 - mae: 4.6352\n",
            "Epoch 20/100\n",
            "1/1 [==============================] - 0s 5ms/step - loss: 4.6565 - mae: 4.6565\n",
            "Epoch 21/100\n",
            "1/1 [==============================] - 0s 6ms/step - loss: 4.6058 - mae: 4.6058\n",
            "Epoch 22/100\n",
            "1/1 [==============================] - 0s 5ms/step - loss: 4.4937 - mae: 4.4937\n",
            "Epoch 23/100\n",
            "1/1 [==============================] - 0s 4ms/step - loss: 4.3297 - mae: 4.3297\n",
            "Epoch 24/100\n",
            "1/1 [==============================] - 0s 5ms/step - loss: 4.1221 - mae: 4.1221\n",
            "Epoch 25/100\n",
            "1/1 [==============================] - 0s 7ms/step - loss: 3.8791 - mae: 3.8791\n",
            "Epoch 26/100\n",
            "1/1 [==============================] - 0s 5ms/step - loss: 3.7494 - mae: 3.7494\n",
            "Epoch 27/100\n",
            "1/1 [==============================] - 0s 4ms/step - loss: 3.6321 - mae: 3.6321\n",
            "Epoch 28/100\n",
            "1/1 [==============================] - 0s 8ms/step - loss: 3.5145 - mae: 3.5145\n",
            "Epoch 29/100\n",
            "1/1 [==============================] - 0s 5ms/step - loss: 3.3992 - mae: 3.3992\n",
            "Epoch 30/100\n",
            "1/1 [==============================] - 0s 10ms/step - loss: 3.4652 - mae: 3.4652\n",
            "Epoch 31/100\n",
            "1/1 [==============================] - 0s 13ms/step - loss: 3.4973 - mae: 3.4973\n",
            "Epoch 32/100\n",
            "1/1 [==============================] - 0s 5ms/step - loss: 3.4987 - mae: 3.4987\n",
            "Epoch 33/100\n",
            "1/1 [==============================] - 0s 8ms/step - loss: 3.4746 - mae: 3.4746\n",
            "Epoch 34/100\n",
            "1/1 [==============================] - 0s 6ms/step - loss: 3.3832 - mae: 3.3832\n",
            "Epoch 35/100\n",
            "1/1 [==============================] - 0s 7ms/step - loss: 3.2737 - mae: 3.2737\n",
            "Epoch 36/100\n",
            "1/1 [==============================] - 0s 5ms/step - loss: 3.1469 - mae: 3.1469\n",
            "Epoch 37/100\n",
            "1/1 [==============================] - 0s 6ms/step - loss: 2.9966 - mae: 2.9966\n",
            "Epoch 38/100\n",
            "1/1 [==============================] - 0s 6ms/step - loss: 3.0079 - mae: 3.0079\n",
            "Epoch 39/100\n",
            "1/1 [==============================] - 0s 8ms/step - loss: 3.0201 - mae: 3.0201\n",
            "Epoch 40/100\n",
            "1/1 [==============================] - 0s 7ms/step - loss: 2.9535 - mae: 2.9535\n",
            "Epoch 41/100\n",
            "1/1 [==============================] - 0s 6ms/step - loss: 2.8900 - mae: 2.8900\n",
            "Epoch 42/100\n",
            "1/1 [==============================] - 0s 7ms/step - loss: 2.8464 - mae: 2.8464\n",
            "Epoch 43/100\n",
            "1/1 [==============================] - 0s 7ms/step - loss: 2.7865 - mae: 2.7865\n",
            "Epoch 44/100\n",
            "1/1 [==============================] - 0s 5ms/step - loss: 2.7094 - mae: 2.7094\n",
            "Epoch 45/100\n",
            "1/1 [==============================] - 0s 7ms/step - loss: 2.6159 - mae: 2.6159\n",
            "Epoch 46/100\n",
            "1/1 [==============================] - 0s 8ms/step - loss: 2.5154 - mae: 2.5154\n",
            "Epoch 47/100\n",
            "1/1 [==============================] - 0s 5ms/step - loss: 2.4126 - mae: 2.4126\n",
            "Epoch 48/100\n",
            "1/1 [==============================] - 0s 6ms/step - loss: 2.2979 - mae: 2.2979\n",
            "Epoch 49/100\n",
            "1/1 [==============================] - 0s 6ms/step - loss: 2.1842 - mae: 2.1842\n",
            "Epoch 50/100\n",
            "1/1 [==============================] - 0s 8ms/step - loss: 2.0957 - mae: 2.0957\n",
            "Epoch 51/100\n",
            "1/1 [==============================] - 0s 11ms/step - loss: 1.9665 - mae: 1.9665\n",
            "Epoch 52/100\n",
            "1/1 [==============================] - 0s 4ms/step - loss: 1.8628 - mae: 1.8628\n",
            "Epoch 53/100\n",
            "1/1 [==============================] - 0s 5ms/step - loss: 1.7514 - mae: 1.7514\n",
            "Epoch 54/100\n",
            "1/1 [==============================] - 0s 6ms/step - loss: 1.6456 - mae: 1.6456\n",
            "Epoch 55/100\n",
            "1/1 [==============================] - 0s 5ms/step - loss: 1.5167 - mae: 1.5167\n",
            "Epoch 56/100\n",
            "1/1 [==============================] - 0s 7ms/step - loss: 1.3853 - mae: 1.3853\n",
            "Epoch 57/100\n",
            "1/1 [==============================] - 0s 6ms/step - loss: 1.2414 - mae: 1.2414\n",
            "Epoch 58/100\n",
            "1/1 [==============================] - 0s 6ms/step - loss: 1.1062 - mae: 1.1062\n",
            "Epoch 59/100\n",
            "1/1 [==============================] - 0s 6ms/step - loss: 0.9449 - mae: 0.9449\n",
            "Epoch 60/100\n",
            "1/1 [==============================] - 0s 9ms/step - loss: 0.7780 - mae: 0.7780\n",
            "Epoch 61/100\n",
            "1/1 [==============================] - 0s 7ms/step - loss: 0.6153 - mae: 0.6153\n",
            "Epoch 62/100\n",
            "1/1 [==============================] - 0s 7ms/step - loss: 0.4456 - mae: 0.4456\n",
            "Epoch 63/100\n",
            "1/1 [==============================] - 0s 8ms/step - loss: 0.3073 - mae: 0.3073\n",
            "Epoch 64/100\n",
            "1/1 [==============================] - 0s 6ms/step - loss: 0.3207 - mae: 0.3207\n",
            "Epoch 65/100\n",
            "1/1 [==============================] - 0s 7ms/step - loss: 0.3314 - mae: 0.3314\n",
            "Epoch 66/100\n",
            "1/1 [==============================] - 0s 8ms/step - loss: 0.3568 - mae: 0.3568\n",
            "Epoch 67/100\n",
            "1/1 [==============================] - 0s 5ms/step - loss: 0.6260 - mae: 0.6260\n",
            "Epoch 68/100\n",
            "1/1 [==============================] - 0s 6ms/step - loss: 0.7383 - mae: 0.7383\n",
            "Epoch 69/100\n",
            "1/1 [==============================] - 0s 8ms/step - loss: 0.7689 - mae: 0.7689\n",
            "Epoch 70/100\n",
            "1/1 [==============================] - 0s 6ms/step - loss: 0.4966 - mae: 0.4966\n",
            "Epoch 71/100\n",
            "1/1 [==============================] - 0s 7ms/step - loss: 0.8240 - mae: 0.8240\n",
            "Epoch 72/100\n",
            "1/1 [==============================] - 0s 6ms/step - loss: 0.9686 - mae: 0.9686\n",
            "Epoch 73/100\n",
            "1/1 [==============================] - 0s 6ms/step - loss: 0.6983 - mae: 0.6983\n",
            "Epoch 74/100\n",
            "1/1 [==============================] - 0s 7ms/step - loss: 0.4741 - mae: 0.4741\n",
            "Epoch 75/100\n",
            "1/1 [==============================] - 0s 7ms/step - loss: 0.6425 - mae: 0.6425\n",
            "Epoch 76/100\n",
            "1/1 [==============================] - 0s 6ms/step - loss: 0.6040 - mae: 0.6040\n",
            "Epoch 77/100\n",
            "1/1 [==============================] - 0s 6ms/step - loss: 0.4715 - mae: 0.4715\n",
            "Epoch 78/100\n",
            "1/1 [==============================] - 0s 10ms/step - loss: 0.3335 - mae: 0.3335\n",
            "Epoch 79/100\n",
            "1/1 [==============================] - 0s 5ms/step - loss: 0.3067 - mae: 0.3067\n",
            "Epoch 80/100\n",
            "1/1 [==============================] - 0s 6ms/step - loss: 0.2433 - mae: 0.2433\n",
            "Epoch 81/100\n",
            "1/1 [==============================] - 0s 8ms/step - loss: 0.2313 - mae: 0.2313\n",
            "Epoch 82/100\n",
            "1/1 [==============================] - 0s 7ms/step - loss: 0.2120 - mae: 0.2120\n",
            "Epoch 83/100\n",
            "1/1 [==============================] - 0s 7ms/step - loss: 0.1906 - mae: 0.1906\n",
            "Epoch 84/100\n",
            "1/1 [==============================] - 0s 8ms/step - loss: 0.2182 - mae: 0.2182\n",
            "Epoch 85/100\n",
            "1/1 [==============================] - 0s 8ms/step - loss: 0.2165 - mae: 0.2165\n",
            "Epoch 86/100\n",
            "1/1 [==============================] - 0s 8ms/step - loss: 0.2067 - mae: 0.2067\n",
            "Epoch 87/100\n",
            "1/1 [==============================] - 0s 5ms/step - loss: 0.2340 - mae: 0.2340\n",
            "Epoch 88/100\n",
            "1/1 [==============================] - 0s 5ms/step - loss: 0.2402 - mae: 0.2402\n",
            "Epoch 89/100\n",
            "1/1 [==============================] - 0s 8ms/step - loss: 0.2050 - mae: 0.2050\n",
            "Epoch 90/100\n",
            "1/1 [==============================] - 0s 10ms/step - loss: 0.2364 - mae: 0.2364\n",
            "Epoch 91/100\n",
            "1/1 [==============================] - 0s 8ms/step - loss: 0.1642 - mae: 0.1642\n",
            "Epoch 92/100\n",
            "1/1 [==============================] - 0s 23ms/step - loss: 0.1812 - mae: 0.1812\n",
            "Epoch 93/100\n",
            "1/1 [==============================] - 0s 12ms/step - loss: 0.1173 - mae: 0.1173\n",
            "Epoch 94/100\n",
            "1/1 [==============================] - 0s 10ms/step - loss: 0.1930 - mae: 0.1930\n",
            "Epoch 95/100\n",
            "1/1 [==============================] - 0s 8ms/step - loss: 0.1124 - mae: 0.1124\n",
            "Epoch 96/100\n",
            "1/1 [==============================] - 0s 9ms/step - loss: 0.1248 - mae: 0.1248\n",
            "Epoch 97/100\n",
            "1/1 [==============================] - 0s 17ms/step - loss: 0.1527 - mae: 0.1527\n",
            "Epoch 98/100\n",
            "1/1 [==============================] - 0s 10ms/step - loss: 0.1279 - mae: 0.1279\n",
            "Epoch 99/100\n",
            "1/1 [==============================] - 0s 8ms/step - loss: 0.1075 - mae: 0.1075\n",
            "Epoch 100/100\n",
            "1/1 [==============================] - 0s 8ms/step - loss: 0.1733 - mae: 0.1733\n"
          ],
          "name": "stdout"
        },
        {
          "output_type": "execute_result",
          "data": {
            "text/plain": [
              "<tensorflow.python.keras.callbacks.History at 0x7fe080046890>"
            ]
          },
          "metadata": {
            "tags": []
          },
          "execution_count": 25
        }
      ]
    },
    {
      "cell_type": "code",
      "metadata": {
        "colab": {
          "base_uri": "https://localhost:8080/"
        },
        "id": "eV9kfhgXxOXp",
        "outputId": "8a1cc3a0-f058-473e-ab18-7db9c5d9adad"
      },
      "source": [
        "model.predict([17.0])"
      ],
      "execution_count": null,
      "outputs": [
        {
          "output_type": "stream",
          "text": [
            "WARNING:tensorflow:6 out of the last 6 calls to <function Model.make_predict_function.<locals>.predict_function at 0x7fe089b345f0> triggered tf.function retracing. Tracing is expensive and the excessive number of tracings could be due to (1) creating @tf.function repeatedly in a loop, (2) passing tensors with different shapes, (3) passing Python objects instead of tensors. For (1), please define your @tf.function outside of the loop. For (2), @tf.function has experimental_relax_shapes=True option that relaxes argument shapes that can avoid unnecessary retracing. For (3), please refer to https://www.tensorflow.org/guide/function#controlling_retracing and https://www.tensorflow.org/api_docs/python/tf/function for  more details.\n"
          ],
          "name": "stdout"
        },
        {
          "output_type": "execute_result",
          "data": {
            "text/plain": [
              "array([[26.851166]], dtype=float32)"
            ]
          },
          "metadata": {
            "tags": []
          },
          "execution_count": 26
        }
      ]
    },
    {
      "cell_type": "markdown",
      "metadata": {
        "id": "bzr0qpbwxS4n"
      },
      "source": [
        "### Evaluating model"
      ]
    },
    {
      "cell_type": "code",
      "metadata": {
        "colab": {
          "base_uri": "https://localhost:8080/"
        },
        "id": "5sLEqTYFzRab",
        "outputId": "298af0ad-045f-48ea-f036-969ebcca4eca"
      },
      "source": [
        "X = tf.range(-100,100,4)\n",
        "X"
      ],
      "execution_count": null,
      "outputs": [
        {
          "output_type": "execute_result",
          "data": {
            "text/plain": [
              "<tf.Tensor: shape=(50,), dtype=int32, numpy=\n",
              "array([-100,  -96,  -92,  -88,  -84,  -80,  -76,  -72,  -68,  -64,  -60,\n",
              "        -56,  -52,  -48,  -44,  -40,  -36,  -32,  -28,  -24,  -20,  -16,\n",
              "        -12,   -8,   -4,    0,    4,    8,   12,   16,   20,   24,   28,\n",
              "         32,   36,   40,   44,   48,   52,   56,   60,   64,   68,   72,\n",
              "         76,   80,   84,   88,   92,   96], dtype=int32)>"
            ]
          },
          "metadata": {
            "tags": []
          },
          "execution_count": 2
        }
      ]
    },
    {
      "cell_type": "code",
      "metadata": {
        "colab": {
          "base_uri": "https://localhost:8080/"
        },
        "id": "a8A2cLW20dXP",
        "outputId": "03c6373b-cd73-4f8f-ed0b-3e436140b07c"
      },
      "source": [
        "y = X +10\n",
        "y"
      ],
      "execution_count": null,
      "outputs": [
        {
          "output_type": "execute_result",
          "data": {
            "text/plain": [
              "<tf.Tensor: shape=(50,), dtype=int32, numpy=\n",
              "array([-90, -86, -82, -78, -74, -70, -66, -62, -58, -54, -50, -46, -42,\n",
              "       -38, -34, -30, -26, -22, -18, -14, -10,  -6,  -2,   2,   6,  10,\n",
              "        14,  18,  22,  26,  30,  34,  38,  42,  46,  50,  54,  58,  62,\n",
              "        66,  70,  74,  78,  82,  86,  90,  94,  98, 102, 106], dtype=int32)>"
            ]
          },
          "metadata": {
            "tags": []
          },
          "execution_count": 3
        }
      ]
    },
    {
      "cell_type": "code",
      "metadata": {
        "colab": {
          "base_uri": "https://localhost:8080/",
          "height": 282
        },
        "id": "LRNIVmP20exe",
        "outputId": "4eb4eb49-d841-4b39-9453-cf52c10aab05"
      },
      "source": [
        "import matplotlib.pyplot as plt\n",
        "plt.scatter(X,y)"
      ],
      "execution_count": null,
      "outputs": [
        {
          "output_type": "execute_result",
          "data": {
            "text/plain": [
              "<matplotlib.collections.PathCollection at 0x7f9742f61c10>"
            ]
          },
          "metadata": {
            "tags": []
          },
          "execution_count": 4
        },
        {
          "output_type": "display_data",
          "data": {
            "image/png": "[encoded data removed]",
            "text/plain": [
              "<Figure size 432x288 with 1 Axes>"
            ]
          },
          "metadata": {
            "tags": [],
            "needs_background": "light"
          }
        }
      ]
    },
    {
      "cell_type": "code",
      "metadata": {
        "colab": {
          "base_uri": "https://localhost:8080/"
        },
        "id": "BKRZ9_b50r0G",
        "outputId": "d3800c15-d81a-4d44-d8be-e584e8986bd6"
      },
      "source": [
        "#### train.test,\n",
        "X_train = X[:40]\n",
        "y_train = y[:40]\n",
        "\n",
        "X_test  = X[40:]\n",
        "y_test  = y[40:]\n",
        "\n",
        "len(X_train),len(y_train),len(X_test),len(y_test),"
      ],
      "execution_count": null,
      "outputs": [
        {
          "output_type": "execute_result",
          "data": {
            "text/plain": [
              "(40, 40, 10, 10)"
            ]
          },
          "metadata": {
            "tags": []
          },
          "execution_count": 5
        }
      ]
    },
    {
      "cell_type": "code",
      "metadata": {
        "colab": {
          "base_uri": "https://localhost:8080/",
          "height": 428
        },
        "id": "wG30llcg1ko5",
        "outputId": "4eb82155-9440-46b4-bf1c-0a6c95433522"
      },
      "source": [
        "plt.figure(figsize=(10,7))\n",
        "plt.scatter(X_train,y_train,c='b',label=\"train\")\n",
        "\n",
        "plt.scatter(X_test,y_test,c='r',label=\"test\")\n",
        "plt.legend()\n",
        "plt.show()"
      ],
      "execution_count": null,
      "outputs": [
        {
          "output_type": "display_data",
          "data": {
            "image/png": "[encoded data removed]",
            "text/plain": [
              "<Figure size 720x504 with 1 Axes>"
            ]
          },
          "metadata": {
            "tags": [],
            "needs_background": "light"
          }
        }
      ]
    },
    {
      "cell_type": "code",
      "metadata": {
        "id": "9_aAHweW14Us"
      },
      "source": [
        "model = tf.keras.Sequential([\n",
        "     tf.keras.layers.Dense(1,input_shape=[1])                        \n",
        "                            \n",
        "])\n",
        "\n",
        "#compile model\n",
        "model.compile(loss=tf.keras.losses.mae,\n",
        "              optimizer=tf.keras.optimizers.SGD(),\n",
        "              metrics=['mae'])\n",
        "\n",
        "#model.fit(X_train,y_train,epochs=100)"
      ],
      "execution_count": null,
      "outputs": []
    },
    {
      "cell_type": "code",
      "metadata": {
        "colab": {
          "base_uri": "https://localhost:8080/"
        },
        "id": "MVbsBpYX2erp",
        "outputId": "0a9ec07a-334d-4448-b0dd-439ea55c6655"
      },
      "source": [
        "model.summary()"
      ],
      "execution_count": null,
      "outputs": [
        {
          "output_type": "stream",
          "text": [
            "Model: \"sequential\"\n",
            "_________________________________________________________________\n",
            "Layer (type)                 Output Shape              Param #   \n",
            "=================================================================\n",
            "dense (Dense)                (None, 1)                 2         \n",
            "=================================================================\n",
            "Total params: 2\n",
            "Trainable params: 2\n",
            "Non-trainable params: 0\n",
            "_________________________________________________________________\n"
          ],
          "name": "stdout"
        }
      ]
    },
    {
      "cell_type": "markdown",
      "metadata": {
        "id": "J-k8rlJz2gpX"
      },
      "source": [
        "* total params : to no of params inthe model ( x & y )_> 2\n",
        "* trainable parasm: params (pattern) the model can update as it trains\n",
        "* non trainnable parAMS : THESE ARE NOT UPDATED during training ( this is typically when you learne parameter from other model in tranffere learning  )"
      ]
    },
    {
      "cell_type": "code",
      "metadata": {
        "colab": {
          "base_uri": "https://localhost:8080/"
        },
        "id": "j0hiVrw06SDL",
        "outputId": "1e6409fb-b0eb-4706-a3a9-9f9a0ffbab35"
      },
      "source": [
        "model.fit(X_train,y_train,epochs=100,verbose=1)"
      ],
      "execution_count": null,
      "outputs": [
        {
          "output_type": "stream",
          "text": [
            "Epoch 1/100\n",
            "2/2 [==============================] - 1s 8ms/step - loss: 73.8205 - mae: 73.8205\n",
            "Epoch 2/100\n",
            "2/2 [==============================] - 0s 10ms/step - loss: 39.3476 - mae: 39.3476\n",
            "Epoch 3/100\n",
            "2/2 [==============================] - 0s 8ms/step - loss: 9.7980 - mae: 9.7980\n",
            "Epoch 4/100\n",
            "2/2 [==============================] - 0s 7ms/step - loss: 10.4315 - mae: 10.4315\n",
            "Epoch 5/100\n",
            "2/2 [==============================] - 0s 8ms/step - loss: 11.1870 - mae: 11.1870\n",
            "Epoch 6/100\n",
            "2/2 [==============================] - 0s 9ms/step - loss: 12.3944 - mae: 12.3944\n",
            "Epoch 7/100\n",
            "2/2 [==============================] - 0s 6ms/step - loss: 12.4839 - mae: 12.4839\n",
            "Epoch 8/100\n",
            "2/2 [==============================] - 0s 7ms/step - loss: 9.2404 - mae: 9.2404\n",
            "Epoch 9/100\n",
            "2/2 [==============================] - 0s 5ms/step - loss: 10.3964 - mae: 10.3964\n",
            "Epoch 10/100\n",
            "2/2 [==============================] - 0s 4ms/step - loss: 8.5093 - mae: 8.5093\n",
            "Epoch 11/100\n",
            "2/2 [==============================] - 0s 4ms/step - loss: 9.3105 - mae: 9.3105\n",
            "Epoch 12/100\n",
            "2/2 [==============================] - 0s 5ms/step - loss: 13.5497 - mae: 13.5497\n",
            "Epoch 13/100\n",
            "2/2 [==============================] - 0s 5ms/step - loss: 7.7808 - mae: 7.7808\n",
            "Epoch 14/100\n",
            "2/2 [==============================] - 0s 10ms/step - loss: 17.6806 - mae: 17.6806\n",
            "Epoch 15/100\n",
            "2/2 [==============================] - 0s 7ms/step - loss: 11.4276 - mae: 11.4276\n",
            "Epoch 16/100\n",
            "2/2 [==============================] - 0s 4ms/step - loss: 10.5535 - mae: 10.5535\n",
            "Epoch 17/100\n",
            "2/2 [==============================] - 0s 8ms/step - loss: 8.0700 - mae: 8.0700\n",
            "Epoch 18/100\n",
            "2/2 [==============================] - 0s 4ms/step - loss: 18.6285 - mae: 18.6285\n",
            "Epoch 19/100\n",
            "2/2 [==============================] - 0s 3ms/step - loss: 7.9474 - mae: 7.9474\n",
            "Epoch 20/100\n",
            "2/2 [==============================] - 0s 5ms/step - loss: 9.4017 - mae: 9.4017\n",
            "Epoch 21/100\n",
            "2/2 [==============================] - 0s 7ms/step - loss: 10.4773 - mae: 10.4773\n",
            "Epoch 22/100\n",
            "2/2 [==============================] - 0s 8ms/step - loss: 9.9908 - mae: 9.9908\n",
            "Epoch 23/100\n",
            "2/2 [==============================] - 0s 13ms/step - loss: 7.4800 - mae: 7.4800\n",
            "Epoch 24/100\n",
            "2/2 [==============================] - 0s 11ms/step - loss: 12.6331 - mae: 12.6331\n",
            "Epoch 25/100\n",
            "2/2 [==============================] - 0s 7ms/step - loss: 8.0311 - mae: 8.0311\n",
            "Epoch 26/100\n",
            "2/2 [==============================] - 0s 6ms/step - loss: 23.1738 - mae: 23.1738\n",
            "Epoch 27/100\n",
            "2/2 [==============================] - 0s 5ms/step - loss: 9.8792 - mae: 9.8792\n",
            "Epoch 28/100\n",
            "2/2 [==============================] - 0s 6ms/step - loss: 10.1703 - mae: 10.1703\n",
            "Epoch 29/100\n",
            "2/2 [==============================] - 0s 4ms/step - loss: 10.1718 - mae: 10.1718\n",
            "Epoch 30/100\n",
            "2/2 [==============================] - 0s 5ms/step - loss: 8.4523 - mae: 8.4523\n",
            "Epoch 31/100\n",
            "2/2 [==============================] - 0s 4ms/step - loss: 11.4765 - mae: 11.4765\n",
            "Epoch 32/100\n",
            "2/2 [==============================] - 0s 4ms/step - loss: 14.0201 - mae: 14.0201\n",
            "Epoch 33/100\n",
            "2/2 [==============================] - 0s 7ms/step - loss: 10.8460 - mae: 10.8460\n",
            "Epoch 34/100\n",
            "2/2 [==============================] - 0s 5ms/step - loss: 10.2067 - mae: 10.2067\n",
            "Epoch 35/100\n",
            "2/2 [==============================] - 0s 5ms/step - loss: 14.9683 - mae: 14.9683\n",
            "Epoch 36/100\n",
            "2/2 [==============================] - 0s 4ms/step - loss: 12.0544 - mae: 12.0544\n",
            "Epoch 37/100\n",
            "2/2 [==============================] - 0s 7ms/step - loss: 7.9190 - mae: 7.9190\n",
            "Epoch 38/100\n",
            "2/2 [==============================] - 0s 7ms/step - loss: 7.6673 - mae: 7.6673\n",
            "Epoch 39/100\n",
            "2/2 [==============================] - 0s 6ms/step - loss: 12.2387 - mae: 12.2387\n",
            "Epoch 40/100\n",
            "2/2 [==============================] - 0s 4ms/step - loss: 8.9469 - mae: 8.9469\n",
            "Epoch 41/100\n",
            "2/2 [==============================] - 0s 4ms/step - loss: 19.3512 - mae: 19.3512\n",
            "Epoch 42/100\n",
            "2/2 [==============================] - 0s 8ms/step - loss: 8.8788 - mae: 8.8788\n",
            "Epoch 43/100\n",
            "2/2 [==============================] - 0s 4ms/step - loss: 10.2855 - mae: 10.2855\n",
            "Epoch 44/100\n",
            "2/2 [==============================] - 0s 8ms/step - loss: 10.9657 - mae: 10.9657\n",
            "Epoch 45/100\n",
            "2/2 [==============================] - 0s 7ms/step - loss: 8.8488 - mae: 8.8488\n",
            "Epoch 46/100\n",
            "2/2 [==============================] - 0s 8ms/step - loss: 16.0099 - mae: 16.0099\n",
            "Epoch 47/100\n",
            "2/2 [==============================] - 0s 26ms/step - loss: 9.2635 - mae: 9.2635\n",
            "Epoch 48/100\n",
            "2/2 [==============================] - 0s 5ms/step - loss: 9.1257 - mae: 9.1257\n",
            "Epoch 49/100\n",
            "2/2 [==============================] - 0s 8ms/step - loss: 13.9676 - mae: 13.9676\n",
            "Epoch 50/100\n",
            "2/2 [==============================] - 0s 15ms/step - loss: 7.0399 - mae: 7.0399\n",
            "Epoch 51/100\n",
            "2/2 [==============================] - 0s 6ms/step - loss: 8.6834 - mae: 8.6834\n",
            "Epoch 52/100\n",
            "2/2 [==============================] - 0s 11ms/step - loss: 9.3009 - mae: 9.3009\n",
            "Epoch 53/100\n",
            "2/2 [==============================] - 0s 13ms/step - loss: 11.3582 - mae: 11.3582\n",
            "Epoch 54/100\n",
            "2/2 [==============================] - 0s 7ms/step - loss: 13.2239 - mae: 13.2239\n",
            "Epoch 55/100\n",
            "2/2 [==============================] - 0s 13ms/step - loss: 8.9066 - mae: 8.9066\n",
            "Epoch 56/100\n",
            "2/2 [==============================] - 0s 4ms/step - loss: 9.0226 - mae: 9.0226\n",
            "Epoch 57/100\n",
            "2/2 [==============================] - 0s 7ms/step - loss: 8.0639 - mae: 8.0639\n",
            "Epoch 58/100\n",
            "2/2 [==============================] - 0s 4ms/step - loss: 8.6673 - mae: 8.6673\n",
            "Epoch 59/100\n",
            "2/2 [==============================] - 0s 6ms/step - loss: 14.7557 - mae: 14.7557\n",
            "Epoch 60/100\n",
            "2/2 [==============================] - 0s 5ms/step - loss: 11.8849 - mae: 11.8849\n",
            "Epoch 61/100\n",
            "2/2 [==============================] - 0s 4ms/step - loss: 8.9979 - mae: 8.9979\n",
            "Epoch 62/100\n",
            "2/2 [==============================] - 0s 9ms/step - loss: 14.9425 - mae: 14.9425\n",
            "Epoch 63/100\n",
            "2/2 [==============================] - 0s 6ms/step - loss: 12.6810 - mae: 12.6810\n",
            "Epoch 64/100\n",
            "2/2 [==============================] - 0s 6ms/step - loss: 8.6800 - mae: 8.6800\n",
            "Epoch 65/100\n",
            "2/2 [==============================] - 0s 14ms/step - loss: 10.4337 - mae: 10.4337\n",
            "Epoch 66/100\n",
            "2/2 [==============================] - 0s 13ms/step - loss: 10.0930 - mae: 10.0930\n",
            "Epoch 67/100\n",
            "2/2 [==============================] - 0s 7ms/step - loss: 8.4485 - mae: 8.4485\n",
            "Epoch 68/100\n",
            "2/2 [==============================] - 0s 6ms/step - loss: 6.7884 - mae: 6.7884\n",
            "Epoch 69/100\n",
            "2/2 [==============================] - 0s 13ms/step - loss: 11.7042 - mae: 11.7042\n",
            "Epoch 70/100\n",
            "2/2 [==============================] - 0s 7ms/step - loss: 8.6173 - mae: 8.6173\n",
            "Epoch 71/100\n",
            "2/2 [==============================] - 0s 5ms/step - loss: 8.2545 - mae: 8.2545\n",
            "Epoch 72/100\n",
            "2/2 [==============================] - 0s 18ms/step - loss: 10.9546 - mae: 10.9546\n",
            "Epoch 73/100\n",
            "2/2 [==============================] - 0s 6ms/step - loss: 11.1246 - mae: 11.1246\n",
            "Epoch 74/100\n",
            "2/2 [==============================] - 0s 10ms/step - loss: 9.6607 - mae: 9.6607\n",
            "Epoch 75/100\n",
            "2/2 [==============================] - 0s 6ms/step - loss: 13.0891 - mae: 13.0891\n",
            "Epoch 76/100\n",
            "2/2 [==============================] - 0s 9ms/step - loss: 9.2927 - mae: 9.2927\n",
            "Epoch 77/100\n",
            "2/2 [==============================] - 0s 7ms/step - loss: 11.2525 - mae: 11.2525\n",
            "Epoch 78/100\n",
            "2/2 [==============================] - 0s 4ms/step - loss: 13.4419 - mae: 13.4419\n",
            "Epoch 79/100\n",
            "2/2 [==============================] - 0s 8ms/step - loss: 7.3179 - mae: 7.3179\n",
            "Epoch 80/100\n",
            "2/2 [==============================] - 0s 8ms/step - loss: 7.2760 - mae: 7.2760\n",
            "Epoch 81/100\n",
            "2/2 [==============================] - 0s 6ms/step - loss: 7.1683 - mae: 7.1683\n",
            "Epoch 82/100\n",
            "2/2 [==============================] - 0s 8ms/step - loss: 10.9033 - mae: 10.9033\n",
            "Epoch 83/100\n",
            "2/2 [==============================] - 0s 4ms/step - loss: 7.3753 - mae: 7.3753\n",
            "Epoch 84/100\n",
            "2/2 [==============================] - 0s 5ms/step - loss: 9.8295 - mae: 9.8295\n",
            "Epoch 85/100\n",
            "2/2 [==============================] - 0s 4ms/step - loss: 9.5875 - mae: 9.5875\n",
            "Epoch 86/100\n",
            "2/2 [==============================] - 0s 7ms/step - loss: 9.4003 - mae: 9.4003\n",
            "Epoch 87/100\n",
            "2/2 [==============================] - 0s 6ms/step - loss: 8.0297 - mae: 8.0297\n",
            "Epoch 88/100\n",
            "2/2 [==============================] - 0s 7ms/step - loss: 6.5183 - mae: 6.5183\n",
            "Epoch 89/100\n",
            "2/2 [==============================] - 0s 4ms/step - loss: 8.1907 - mae: 8.1907\n",
            "Epoch 90/100\n",
            "2/2 [==============================] - 0s 6ms/step - loss: 10.7547 - mae: 10.7547\n",
            "Epoch 91/100\n",
            "2/2 [==============================] - 0s 14ms/step - loss: 11.7962 - mae: 11.7962\n",
            "Epoch 92/100\n",
            "2/2 [==============================] - 0s 5ms/step - loss: 6.7414 - mae: 6.7414\n",
            "Epoch 93/100\n",
            "2/2 [==============================] - 0s 5ms/step - loss: 12.4850 - mae: 12.4850\n",
            "Epoch 94/100\n",
            "2/2 [==============================] - 0s 11ms/step - loss: 9.7608 - mae: 9.7608\n",
            "Epoch 95/100\n",
            "2/2 [==============================] - 0s 10ms/step - loss: 8.9854 - mae: 8.9854\n",
            "Epoch 96/100\n",
            "2/2 [==============================] - 0s 12ms/step - loss: 7.9689 - mae: 7.9689\n",
            "Epoch 97/100\n",
            "2/2 [==============================] - 0s 11ms/step - loss: 7.7158 - mae: 7.7158\n",
            "Epoch 98/100\n",
            "2/2 [==============================] - 0s 6ms/step - loss: 10.5331 - mae: 10.5331\n",
            "Epoch 99/100\n",
            "2/2 [==============================] - 0s 7ms/step - loss: 7.7110 - mae: 7.7110\n",
            "Epoch 100/100\n",
            "2/2 [==============================] - 0s 5ms/step - loss: 13.2634 - mae: 13.2634\n"
          ],
          "name": "stdout"
        },
        {
          "output_type": "execute_result",
          "data": {
            "text/plain": [
              "<tensorflow.python.keras.callbacks.History at 0x7f974be8e1d0>"
            ]
          },
          "metadata": {
            "tags": []
          },
          "execution_count": 9
        }
      ]
    },
    {
      "cell_type": "code",
      "metadata": {
        "colab": {
          "base_uri": "https://localhost:8080/",
          "height": 201
        },
        "id": "4xNpo0C86Tvx",
        "outputId": "5981b41a-bf24-4639-a0eb-00e6f73786f4"
      },
      "source": [
        "from tensorflow.keras.utils import plot_model\n",
        "plot_model(model=model,show_shapes=True)"
      ],
      "execution_count": null,
      "outputs": [
        {
          "output_type": "execute_result",
          "data": {
            "image/png": "[encoded data removed]",
            "text/plain": [
              "<IPython.core.display.Image object>"
            ]
          },
          "metadata": {
            "tags": []
          },
          "execution_count": 10
        }
      ]
    },
    {
      "cell_type": "markdown",
      "metadata": {
        "id": "XUeViLlY-zrx"
      },
      "source": [
        "## visualize model prediction"
      ]
    },
    {
      "cell_type": "code",
      "metadata": {
        "colab": {
          "base_uri": "https://localhost:8080/"
        },
        "id": "LcPTv_quibG-",
        "outputId": "125975b1-f203-4eb6-fd91-bfe0aaabe20d"
      },
      "source": [
        "y_pred = model.predict(X_test)\n",
        "y_pred"
      ],
      "execution_count": null,
      "outputs": [
        {
          "output_type": "execute_result",
          "data": {
            "text/plain": [
              "array([[51.514866],\n",
              "       [54.860065],\n",
              "       [58.205265],\n",
              "       [61.550465],\n",
              "       [64.89566 ],\n",
              "       [68.24086 ],\n",
              "       [71.58606 ],\n",
              "       [74.93126 ],\n",
              "       [78.27646 ],\n",
              "       [81.62166 ]], dtype=float32)"
            ]
          },
          "metadata": {
            "tags": []
          },
          "execution_count": 11
        }
      ]
    },
    {
      "cell_type": "code",
      "metadata": {
        "id": "Fe7zs7x3i5xv"
      },
      "source": [
        "def plot_predictions(train_data=X_train,\n",
        "                     train_label=y_train,\n",
        "                     test_data=X_test,\n",
        "                     test_label=y_test,\n",
        "                     predictions=y_pred):\n",
        "  plt.figure(figsize=(5,5))\n",
        "  plt.scatter(train_data,train_label,c='b',label='train data')\n",
        "  plt.scatter(test_data,test_label,c='g',label='test data')\n",
        "  plt.scatter(test_data,predictions,c='r',label='predictions')\n",
        "  plt.legend()\n",
        "        \n"
      ],
      "execution_count": null,
      "outputs": []
    },
    {
      "cell_type": "code",
      "metadata": {
        "colab": {
          "base_uri": "https://localhost:8080/"
        },
        "id": "A6IqGpQokmC4",
        "outputId": "742f4c79-e8d0-4d2a-8a9d-3a147ad3537d"
      },
      "source": [
        "X_test.shape,y_test.shape"
      ],
      "execution_count": null,
      "outputs": [
        {
          "output_type": "execute_result",
          "data": {
            "text/plain": [
              "(TensorShape([10]), TensorShape([10]))"
            ]
          },
          "metadata": {
            "tags": []
          },
          "execution_count": 30
        }
      ]
    },
    {
      "cell_type": "code",
      "metadata": {
        "colab": {
          "base_uri": "https://localhost:8080/",
          "height": 320
        },
        "id": "cXVN93_qj_fO",
        "outputId": "487a6104-f072-4e2d-cd4a-3e96f3693624"
      },
      "source": [
        "plot_predictions(train_data=X_train,\n",
        "                     train_label=y_train,\n",
        "                     test_data=X_test,\n",
        "                     test_label=y_test,\n",
        "                     predictions=y_pred)"
      ],
      "execution_count": null,
      "outputs": [
        {
          "output_type": "display_data",
          "data": {
            "image/png": "[encoded data removed]",
            "text/plain": [
              "<Figure size 360x360 with 1 Axes>"
            ]
          },
          "metadata": {
            "tags": [],
            "needs_background": "light"
          }
        }
      ]
    },
    {
      "cell_type": "markdown",
      "metadata": {
        "id": "5FTMTDD6kMUI"
      },
      "source": [
        "### Evaluating model \n",
        "\n",
        "> MAE \n",
        "> MSE "
      ]
    },
    {
      "cell_type": "code",
      "metadata": {
        "colab": {
          "base_uri": "https://localhost:8080/"
        },
        "id": "1ZwPgoO2nRqX",
        "outputId": "f3312e3c-ab09-4155-a87c-c7c63ccd28a2"
      },
      "source": [
        "model.evaluate(X_test,y_test)"
      ],
      "execution_count": null,
      "outputs": [
        {
          "output_type": "stream",
          "text": [
            "1/1 [==============================] - 0s 141ms/step - loss: 21.4317 - mae: 21.4317\n"
          ],
          "name": "stdout"
        },
        {
          "output_type": "execute_result",
          "data": {
            "text/plain": [
              "[21.431737899780273, 21.431737899780273]"
            ]
          },
          "metadata": {
            "tags": []
          },
          "execution_count": 44
        }
      ]
    },
    {
      "cell_type": "code",
      "metadata": {
        "colab": {
          "base_uri": "https://localhost:8080/"
        },
        "id": "TqxflWhRnWqN",
        "outputId": "ae9b26c9-eee5-43c2-a7bc-e921350f4a88"
      },
      "source": [
        "mae = tf.metrics.mean_absolute_error(y_test,y_pred)\n",
        "mae"
      ],
      "execution_count": null,
      "outputs": [
        {
          "output_type": "execute_result",
          "data": {
            "text/plain": [
              "<tf.Tensor: shape=(10,), dtype=float32, numpy=\n",
              "array([36.485134, 33.139935, 29.794735, 26.449535, 23.10434 , 19.75914 ,\n",
              "       16.731152, 14.241244, 12.289416, 10.951337], dtype=float32)>"
            ]
          },
          "metadata": {
            "tags": []
          },
          "execution_count": 45
        }
      ]
    },
    {
      "cell_type": "code",
      "metadata": {
        "colab": {
          "base_uri": "https://localhost:8080/"
        },
        "id": "VZVnEWc4nzQZ",
        "outputId": "81b6c665-64ef-41f7-ba6b-bdd7efe962ca"
      },
      "source": [
        "y_test"
      ],
      "execution_count": null,
      "outputs": [
        {
          "output_type": "execute_result",
          "data": {
            "text/plain": [
              "<tf.Tensor: shape=(10,), dtype=int32, numpy=array([ 70,  74,  78,  82,  86,  90,  94,  98, 102, 106], dtype=int32)>"
            ]
          },
          "metadata": {
            "tags": []
          },
          "execution_count": 46
        }
      ]
    },
    {
      "cell_type": "code",
      "metadata": {
        "colab": {
          "base_uri": "https://localhost:8080/"
        },
        "id": "wLN5D_FRorKo",
        "outputId": "71f8a754-f5ab-42a7-def1-8e21626bf960"
      },
      "source": [
        "y_pred"
      ],
      "execution_count": null,
      "outputs": [
        {
          "output_type": "execute_result",
          "data": {
            "text/plain": [
              "array([[51.514866],\n",
              "       [54.860065],\n",
              "       [58.205265],\n",
              "       [61.550465],\n",
              "       [64.89566 ],\n",
              "       [68.24086 ],\n",
              "       [71.58606 ],\n",
              "       [74.93126 ],\n",
              "       [78.27646 ],\n",
              "       [81.62166 ]], dtype=float32)"
            ]
          },
          "metadata": {
            "tags": []
          },
          "execution_count": 47
        }
      ]
    },
    {
      "cell_type": "code",
      "metadata": {
        "colab": {
          "base_uri": "https://localhost:8080/"
        },
        "id": "DemW31PbosjO",
        "outputId": "6b588e34-9704-424c-b230-55dbd02456d9"
      },
      "source": [
        "y_pred.shape"
      ],
      "execution_count": null,
      "outputs": [
        {
          "output_type": "execute_result",
          "data": {
            "text/plain": [
              "(10, 1)"
            ]
          },
          "metadata": {
            "tags": []
          },
          "execution_count": 48
        }
      ]
    },
    {
      "cell_type": "code",
      "metadata": {
        "colab": {
          "base_uri": "https://localhost:8080/"
        },
        "id": "KwFhEBaRouT9",
        "outputId": "69c6700a-9ecb-4846-a09d-61501dedce6c"
      },
      "source": [
        "tf.squeeze(y_pred)"
      ],
      "execution_count": null,
      "outputs": [
        {
          "output_type": "execute_result",
          "data": {
            "text/plain": [
              "<tf.Tensor: shape=(10,), dtype=float32, numpy=\n",
              "array([51.514866, 54.860065, 58.205265, 61.550465, 64.89566 , 68.24086 ,\n",
              "       71.58606 , 74.93126 , 78.27646 , 81.62166 ], dtype=float32)>"
            ]
          },
          "metadata": {
            "tags": []
          },
          "execution_count": 49
        }
      ]
    },
    {
      "cell_type": "code",
      "metadata": {
        "colab": {
          "base_uri": "https://localhost:8080/"
        },
        "id": "fx8rhucroyDO",
        "outputId": "6d2c0afe-e669-4e22-ea9c-a64b5cd05c7c"
      },
      "source": [
        "tf.metrics.mean_absolute_error(y_test,tf.squeeze(y_pred))"
      ],
      "execution_count": null,
      "outputs": [
        {
          "output_type": "execute_result",
          "data": {
            "text/plain": [
              "<tf.Tensor: shape=(), dtype=float32, numpy=21.431738>"
            ]
          },
          "metadata": {
            "tags": []
          },
          "execution_count": 51
        }
      ]
    },
    {
      "cell_type": "code",
      "metadata": {
        "colab": {
          "base_uri": "https://localhost:8080/"
        },
        "id": "PjeFLrK4pFVN",
        "outputId": "c61e8b8a-41dd-42a8-c14d-63fffae72716"
      },
      "source": [
        "MSE = tf.metrics.mean_squared_error(y_test,tf.squeeze(y_pred))\n",
        "MSE"
      ],
      "execution_count": null,
      "outputs": [
        {
          "output_type": "execute_result",
          "data": {
            "text/plain": [
              "<tf.Tensor: shape=(), dtype=float32, numpy=462.85675>"
            ]
          },
          "metadata": {
            "tags": []
          },
          "execution_count": 53
        }
      ]
    },
    {
      "cell_type": "code",
      "metadata": {
        "id": "L0SmPf7NpaXK"
      },
      "source": [
        "HUBER = tf.keras.losses.Huber(y_test,tf.squeeze(y_pred),0.01)"
      ],
      "execution_count": null,
      "outputs": []
    },
    {
      "cell_type": "code",
      "metadata": {
        "id": "4cmuV6Pyp7a9"
      },
      "source": [
        "def mae(y_true,y_pred):\n",
        "  return tf.metrics.mean_absolute_error(y_true,y_pred)\n",
        "\n",
        "def mae(y_true,y_pred):\n",
        "  return tf.metrics.mean_squared_error(y_true,y_pred)"
      ],
      "execution_count": null,
      "outputs": []
    },
    {
      "cell_type": "markdown",
      "metadata": {
        "id": "CXV6rUfdsOfC"
      },
      "source": [
        "### Running expirmnts to improve our model \n",
        "* start with simple model \n",
        "* parameter tunning and increase model complexity slowly "
      ]
    },
    {
      "cell_type": "markdown",
      "metadata": {
        "id": "1I1DyFPrskIT"
      },
      "source": [
        "### Saving Model\n",
        "* SaveModel format\n",
        "* HDF5 frmat"
      ]
    },
    {
      "cell_type": "code",
      "metadata": {
        "colab": {
          "base_uri": "https://localhost:8080/"
        },
        "id": "uyiJEtB5xLNG",
        "outputId": "09ddd6fa-ab15-4dd9-f953-57eedffb334d"
      },
      "source": [
        "model.save('model_final')"
      ],
      "execution_count": null,
      "outputs": [
        {
          "output_type": "stream",
          "text": [
            "INFO:tensorflow:Assets written to: model_final/assets\n"
          ],
          "name": "stdout"
        }
      ]
    },
    {
      "cell_type": "code",
      "metadata": {
        "id": "fz8EZCSvy87R"
      },
      "source": [
        "model.save('my_model.h5')"
      ],
      "execution_count": null,
      "outputs": []
    },
    {
      "cell_type": "markdown",
      "metadata": {
        "id": "kf5O1UyqzIMs"
      },
      "source": [
        "### load model"
      ]
    },
    {
      "cell_type": "code",
      "metadata": {
        "id": "bxA2spB9ztXq"
      },
      "source": [
        "loaded_model = tf.keras.models.load_model('/content/model_final')"
      ],
      "execution_count": null,
      "outputs": []
    },
    {
      "cell_type": "code",
      "metadata": {
        "colab": {
          "base_uri": "https://localhost:8080/"
        },
        "id": "dvBctn1fz5CL",
        "outputId": "e69bf78b-9cc5-4cd4-e97e-e7817ad30095"
      },
      "source": [
        "loaded_model.summary()"
      ],
      "execution_count": null,
      "outputs": [
        {
          "output_type": "stream",
          "text": [
            "Model: \"sequential\"\n",
            "_________________________________________________________________\n",
            "Layer (type)                 Output Shape              Param #   \n",
            "=================================================================\n",
            "dense (Dense)                (None, 1)                 2         \n",
            "=================================================================\n",
            "Total params: 2\n",
            "Trainable params: 2\n",
            "Non-trainable params: 0\n",
            "_________________________________________________________________\n"
          ],
          "name": "stdout"
        }
      ]
    },
    {
      "cell_type": "code",
      "metadata": {
        "colab": {
          "base_uri": "https://localhost:8080/"
        },
        "id": "zPfd8nhr0Cvg",
        "outputId": "b5cb0ef1-72cb-4a06-a969-4d6086271bea"
      },
      "source": [
        "model.summary()"
      ],
      "execution_count": null,
      "outputs": [
        {
          "output_type": "stream",
          "text": [
            "Model: \"sequential\"\n",
            "_________________________________________________________________\n",
            "Layer (type)                 Output Shape              Param #   \n",
            "=================================================================\n",
            "dense (Dense)                (None, 1)                 2         \n",
            "=================================================================\n",
            "Total params: 2\n",
            "Trainable params: 2\n",
            "Non-trainable params: 0\n",
            "_________________________________________________________________\n"
          ],
          "name": "stdout"
        }
      ]
    },
    {
      "cell_type": "code",
      "metadata": {
        "colab": {
          "base_uri": "https://localhost:8080/"
        },
        "id": "Grfhx75a0Eah",
        "outputId": "5f251abd-3742-4271-aadf-0786ec657ae2"
      },
      "source": [
        "model_pred = model.predict(X_test)\n",
        "loaded_model_pred = loaded_model.predict(X_test)\n",
        "\n",
        "loaded_model_pred == model_pred"
      ],
      "execution_count": null,
      "outputs": [
        {
          "output_type": "execute_result",
          "data": {
            "text/plain": [
              "array([[ True],\n",
              "       [ True],\n",
              "       [ True],\n",
              "       [ True],\n",
              "       [ True],\n",
              "       [ True],\n",
              "       [ True],\n",
              "       [ True],\n",
              "       [ True],\n",
              "       [ True]])"
            ]
          },
          "metadata": {
            "tags": []
          },
          "execution_count": 71
        }
      ]
    },
    {
      "cell_type": "code",
      "metadata": {
        "colab": {
          "base_uri": "https://localhost:8080/"
        },
        "id": "VFTUA1uM0eQi",
        "outputId": "ac12cc15-749a-4353-8197-90b06cc22b28"
      },
      "source": [
        "loaded_model_pred.squeeze()\n"
      ],
      "execution_count": null,
      "outputs": [
        {
          "output_type": "execute_result",
          "data": {
            "text/plain": [
              "array([51.514866, 54.860065, 58.205265, 61.550465, 64.89566 , 68.24086 ,\n",
              "       71.58606 , 74.93126 , 78.27646 , 81.62166 ], dtype=float32)"
            ]
          },
          "metadata": {
            "tags": []
          },
          "execution_count": 67
        }
      ]
    },
    {
      "cell_type": "code",
      "metadata": {
        "colab": {
          "base_uri": "https://localhost:8080/"
        },
        "id": "aKAMpzNt0xrw",
        "outputId": "68945c00-23cd-46ba-f467-2c7b1d9f5075"
      },
      "source": [
        "model_pred.squeeze()"
      ],
      "execution_count": null,
      "outputs": [
        {
          "output_type": "execute_result",
          "data": {
            "text/plain": [
              "array([51.514866, 54.860065, 58.205265, 61.550465, 64.89566 , 68.24086 ,\n",
              "       71.58606 , 74.93126 , 78.27646 , 81.62166 ], dtype=float32)"
            ]
          },
          "metadata": {
            "tags": []
          },
          "execution_count": 68
        }
      ]
    },
    {
      "cell_type": "code",
      "metadata": {
        "id": "4lfIfC-G01lF"
      },
      "source": [
        "loaded_h5_model = tf.keras.models.load_model('/content/my_model.h5')"
      ],
      "execution_count": null,
      "outputs": []
    },
    {
      "cell_type": "code",
      "metadata": {
        "colab": {
          "base_uri": "https://localhost:8080/"
        },
        "id": "J0K5aNwn1MZc",
        "outputId": "c8cb5885-0267-4fd8-f417-d456b8dc0756"
      },
      "source": [
        "loaded_h5_model.summary()"
      ],
      "execution_count": null,
      "outputs": [
        {
          "output_type": "stream",
          "text": [
            "Model: \"sequential\"\n",
            "_________________________________________________________________\n",
            "Layer (type)                 Output Shape              Param #   \n",
            "=================================================================\n",
            "dense (Dense)                (None, 1)                 2         \n",
            "=================================================================\n",
            "Total params: 2\n",
            "Trainable params: 2\n",
            "Non-trainable params: 0\n",
            "_________________________________________________________________\n"
          ],
          "name": "stdout"
        }
      ]
    },
    {
      "cell_type": "code",
      "metadata": {
        "colab": {
          "base_uri": "https://localhost:8080/"
        },
        "id": "O9q4evD51PN_",
        "outputId": "0dc7539f-dfcd-4cdf-c998-971acbc569ec"
      },
      "source": [
        "h5_pred = loaded_h5_model.predict(X_test)\n",
        "h5_pred == model_pred"
      ],
      "execution_count": null,
      "outputs": [
        {
          "output_type": "execute_result",
          "data": {
            "text/plain": [
              "array([[ True],\n",
              "       [ True],\n",
              "       [ True],\n",
              "       [ True],\n",
              "       [ True],\n",
              "       [ True],\n",
              "       [ True],\n",
              "       [ True],\n",
              "       [ True],\n",
              "       [ True]])"
            ]
          },
          "metadata": {
            "tags": []
          },
          "execution_count": 76
        }
      ]
    },
    {
      "cell_type": "code",
      "metadata": {
        "id": "h_yc6oC_1VWo"
      },
      "source": [
        ""
      ],
      "execution_count": null,
      "outputs": []
    }
  ]
}